{
 "cells": [
  {
   "cell_type": "code",
   "execution_count": 1,
   "metadata": {},
   "outputs": [
    {
     "name": "stdout",
     "output_type": "stream",
     "text": [
      "####################################################################################################################################################################################################################################################################################################################################################################################################################################################################################################################\n",
      "{'name': 'bananas', 'count': 3, 'sector': '30'}\n",
      "####################################################################################################################################################################################################################################################################################################################################################################################################################################################################################################################\n",
      "ChatCompletion(id='chatcmpl-9G67SW0RNd9EgSegTtAQhGFQQG5Wp', choices=[Choice(finish_reason='function_call', index=0, logprobs=None, message=ChatCompletionMessage(content=None, role='assistant', function_call=FunctionCall(arguments='{\"name\":\"bananas\",\"count\":3,\"sector\":\"30\"}', name='fruit_list'), tool_calls=None))], created=1713623798, model='gpt-3.5-turbo-0125', object='chat.completion', system_fingerprint='fp_c2295e73ad', usage=CompletionUsage(completion_tokens=24, prompt_tokens=83, total_tokens=107))\n"
     ]
    }
   ],
   "source": [
    "from openai import OpenAI\n",
    "import json\n",
    "\n",
    "client = OpenAI()\n",
    "\n",
    "prompt = \"I have 3 bananas form sector 30.\"\n",
    "# prompt = \"hello how are you?\"\n",
    "\n",
    "function = [\n",
    "    {\n",
    "        'name': 'fruit_list',\n",
    "        'description': 'Get the fruits information and sector',\n",
    "        'parameters': {\n",
    "            'type': 'object',\n",
    "            'properties': {\n",
    "                'name': {\n",
    "                    'type': 'string',\n",
    "                    'description': 'Name of the fruit'\n",
    "                },\n",
    "                'count': {\n",
    "                    'type': 'integer',\n",
    "                    'description': 'Count of number of fruits'\n",
    "                },\n",
    "                'sector': {\n",
    "                    'type': 'string',\n",
    "                    'description': 'Sector of the fruit'\n",
    "                }\n",
    "            }\n",
    "        }\n",
    "    }\n",
    "]\n",
    "\n",
    "response = client.chat.completions.create(\n",
    "    model= 'gpt-3.5-turbo',\n",
    "    messages=[{'role': 'user', 'content': prompt}],\n",
    "    functions=function,\n",
    "    function_call='auto'\n",
    ")\n",
    "\n",
    "# Loading the response as a JSON object\n",
    "json_response = json.loads(response.choices[0].message.function_call.arguments)\n",
    "json_response2 = response\n",
    "\n",
    "print('#'*500)\n",
    "print(json_response)\n",
    "print('#'*500)\n",
    "print(json_response2)\n"
   ]
  },
  {
   "cell_type": "code",
   "execution_count": 2,
   "metadata": {},
   "outputs": [
    {
     "data": {
      "text/plain": [
       "148"
      ]
     },
     "execution_count": 2,
     "metadata": {},
     "output_type": "execute_result"
    }
   ],
   "source": []
  }
 ],
 "metadata": {
  "kernelspec": {
   "display_name": "Python 3",
   "language": "python",
   "name": "python3"
  },
  "language_info": {
   "codemirror_mode": {
    "name": "ipython",
    "version": 3
   },
   "file_extension": ".py",
   "mimetype": "text/x-python",
   "name": "python",
   "nbconvert_exporter": "python",
   "pygments_lexer": "ipython3",
   "version": "3.10.11"
  }
 },
 "nbformat": 4,
 "nbformat_minor": 2
}
